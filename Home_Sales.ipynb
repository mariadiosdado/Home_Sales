{
  "cells": [
    {
      "cell_type": "code",
      "execution_count": 1,
      "metadata": {
        "colab": {
          "base_uri": "https://localhost:8080/"
        },
        "id": "a_KW73O2e3dw",
        "outputId": "5a05dc31-532f-4f61-8d84-9f8cdf0cb129"
      },
      "outputs": [
        {
          "output_type": "stream",
          "name": "stdout",
          "text": [
            "Get:1 https://cloud.r-project.org/bin/linux/ubuntu jammy-cran40/ InRelease [3,626 B]\n",
            "Hit:2 https://developer.download.nvidia.com/compute/cuda/repos/ubuntu2204/x86_64  InRelease\n",
            "Hit:3 http://archive.ubuntu.com/ubuntu jammy InRelease\n",
            "Get:4 http://security.ubuntu.com/ubuntu jammy-security InRelease [110 kB]\n",
            "Get:5 http://archive.ubuntu.com/ubuntu jammy-updates InRelease [119 kB]\n",
            "Get:6 http://archive.ubuntu.com/ubuntu jammy-backports InRelease [109 kB]\n",
            "Get:7 http://security.ubuntu.com/ubuntu jammy-security/restricted amd64 Packages [1,547 kB]\n",
            "Hit:8 https://ppa.launchpadcontent.net/c2d4u.team/c2d4u4.0+/ubuntu jammy InRelease\n",
            "Get:9 http://archive.ubuntu.com/ubuntu jammy-updates/universe amd64 Packages [1,304 kB]\n",
            "Get:10 https://ppa.launchpadcontent.net/deadsnakes/ppa/ubuntu jammy InRelease [18.1 kB]\n",
            "Get:11 http://security.ubuntu.com/ubuntu jammy-security/universe amd64 Packages [1,036 kB]\n",
            "Get:12 http://security.ubuntu.com/ubuntu jammy-security/main amd64 Packages [1,306 kB]\n",
            "Get:13 http://archive.ubuntu.com/ubuntu jammy-updates/main amd64 Packages [1,578 kB]\n",
            "Hit:14 https://ppa.launchpadcontent.net/graphics-drivers/ppa/ubuntu jammy InRelease\n",
            "Hit:15 https://ppa.launchpadcontent.net/ubuntugis/ppa/ubuntu jammy InRelease\n",
            "Get:16 https://ppa.launchpadcontent.net/deadsnakes/ppa/ubuntu jammy/main amd64 Packages [28.5 kB]\n",
            "Fetched 7,159 kB in 2s (4,382 kB/s)\n",
            "Reading package lists... Done\n"
          ]
        }
      ],
      "source": [
        "import os\n",
        "# Find the latest version of spark 3.x  from http://www.apache.org/dist/spark/ and enter as the spark version\n",
        "# For example:\n",
        "# spark_version = 'spark-3.4.0'\n",
        "spark_version = 'spark-3.5.0'\n",
        "os.environ['SPARK_VERSION']=spark_version\n",
        "\n",
        "# Install Spark and Java\n",
        "!apt-get update\n",
        "!apt-get install openjdk-11-jdk-headless -qq > /dev/null\n",
        "!wget -q http://www.apache.org/dist/spark/$SPARK_VERSION/$SPARK_VERSION-bin-hadoop3.tgz\n",
        "!tar xf $SPARK_VERSION-bin-hadoop3.tgz\n",
        "!pip install -q findspark\n",
        "\n",
        "# Set Environment Variables\n",
        "os.environ[\"JAVA_HOME\"] = \"/usr/lib/jvm/java-11-openjdk-amd64\"\n",
        "os.environ[\"SPARK_HOME\"] = f\"/content/{spark_version}-bin-hadoop3\"\n",
        "\n",
        "# Start a SparkSession\n",
        "import findspark\n",
        "findspark.init()"
      ]
    },
    {
      "cell_type": "code",
      "execution_count": 2,
      "metadata": {
        "id": "2XbWNf1Te5fM"
      },
      "outputs": [],
      "source": [
        "# Import packages\n",
        "from pyspark.sql import SparkSession\n",
        "import time\n",
        "\n",
        "# Create a SparkSession\n",
        "spark = SparkSession.builder.appName(\"SparkSQL\").getOrCreate()"
      ]
    },
    {
      "cell_type": "code",
      "execution_count": 3,
      "metadata": {
        "id": "wOJqxG_RPSwp",
        "colab": {
          "base_uri": "https://localhost:8080/"
        },
        "outputId": "d83daa29-6c1b-41b4-b533-55478f9770a9"
      },
      "outputs": [
        {
          "output_type": "stream",
          "name": "stdout",
          "text": [
            "+--------------------+----------+----------+------+--------+---------+-----------+--------+------+----------+----+\n",
            "|                  id|      date|date_built| price|bedrooms|bathrooms|sqft_living|sqft_lot|floors|waterfront|view|\n",
            "+--------------------+----------+----------+------+--------+---------+-----------+--------+------+----------+----+\n",
            "|f8a53099-ba1c-47d...|2022-04-08|      2016|936923|       4|        3|       3167|   11733|     2|         1|  76|\n",
            "|7530a2d8-1ae3-451...|2021-06-13|      2013|379628|       2|        2|       2235|   14384|     1|         0|  23|\n",
            "|43de979c-0bf0-4c9...|2019-04-12|      2014|417866|       2|        2|       2127|   10575|     2|         0|   0|\n",
            "|b672c137-b88c-48b...|2019-10-16|      2016|239895|       2|        2|       1631|   11149|     2|         0|   0|\n",
            "|e0726d4d-d595-407...|2022-01-08|      2017|424418|       3|        2|       2249|   13878|     2|         0|   4|\n",
            "+--------------------+----------+----------+------+--------+---------+-----------+--------+------+----------+----+\n",
            "only showing top 5 rows\n",
            "\n"
          ]
        }
      ],
      "source": [
        "# 1. Read in the AWS S3 bucket into a DataFrame.\n",
        "from pyspark import SparkFiles\n",
        "url = \"https://2u-data-curriculum-team.s3.amazonaws.com/dataviz-classroom/v1.2/22-big-data/home_sales_revised.csv\"\n",
        "\n",
        "spark.sparkContext.addFile(url)\n",
        "home_sales_df = spark.read.option('header','true').csv(SparkFiles.get('home_sales_revised.csv'), inferSchema = True, sep=\",\")\n",
        "\n",
        "home_sales_df.show(5)\n"
      ]
    },
    {
      "cell_type": "code",
      "execution_count": 4,
      "metadata": {
        "id": "RoljcJ7WPpnm"
      },
      "outputs": [],
      "source": [
        "# 2. Create a temporary view of the DataFrame.\n",
        "from posixpath import sep\n",
        "\n",
        "home_sales_df.createOrReplaceTempView('home_sales')\n"
      ]
    },
    {
      "cell_type": "code",
      "execution_count": 5,
      "metadata": {
        "id": "L6fkwOeOmqvq",
        "colab": {
          "base_uri": "https://localhost:8080/"
        },
        "outputId": "240b32f5-f331-4bb7-ec0c-47bf17dd29ad"
      },
      "outputs": [
        {
          "output_type": "stream",
          "name": "stdout",
          "text": [
            "+-------------+----+\n",
            "|average_price|year|\n",
            "+-------------+----+\n",
            "|    307908.86|2015|\n",
            "|    299999.39|2013|\n",
            "|    299073.89|2014|\n",
            "|    298233.42|2012|\n",
            "|    296050.24|2016|\n",
            "|    296800.75|2010|\n",
            "|     302141.9|2011|\n",
            "|    296576.69|2017|\n",
            "+-------------+----+\n",
            "\n"
          ]
        }
      ],
      "source": [
        "# 3. What is the average price for a four bedroom house sold in each year rounded to two decimal places?\n",
        "query = \"\"\"\n",
        "select round(avg(price),2) as average_price,\n",
        "  date_built as year\n",
        "from home_sales\n",
        "where\n",
        "bedrooms = 4\n",
        "group by date_built\n",
        "\n",
        "\"\"\"\n",
        "\n",
        "spark.sql(query).show()"
      ]
    },
    {
      "cell_type": "code",
      "execution_count": 6,
      "metadata": {
        "id": "l8p_tUS8h8it",
        "colab": {
          "base_uri": "https://localhost:8080/"
        },
        "outputId": "7c76960b-1c82-48bb-eeea-a8927fe76589"
      },
      "outputs": [
        {
          "output_type": "stream",
          "name": "stdout",
          "text": [
            "+-------------+----+\n",
            "|average_price|year|\n",
            "+-------------+----+\n",
            "|    299061.15|2015|\n",
            "|    302956.63|2013|\n",
            "|    302426.89|2014|\n",
            "|    298451.99|2012|\n",
            "|    302937.87|2016|\n",
            "|    297001.32|2010|\n",
            "|     300603.7|2011|\n",
            "|    300313.63|2017|\n",
            "+-------------+----+\n",
            "\n"
          ]
        }
      ],
      "source": [
        "# 4. What is the average price of a home for each year the home was built that have 3 bedrooms and 3 bathrooms rounded to two decimal places?\n",
        "query2 = \"\"\"\n",
        "select round(avg(price),2) as average_price,\n",
        "  date_built as year\n",
        "from home_sales\n",
        "where\n",
        "bedrooms = 3\n",
        "group by date_built\n",
        "\n",
        "\"\"\"\n",
        "\n",
        "spark.sql(query2).show()\n"
      ]
    },
    {
      "cell_type": "code",
      "execution_count": 8,
      "metadata": {
        "id": "Y-Eytz64liDU",
        "colab": {
          "base_uri": "https://localhost:8080/"
        },
        "outputId": "65f00ff8-5036-434d-a589-d8ec39d0b79f"
      },
      "outputs": [
        {
          "output_type": "stream",
          "name": "stdout",
          "text": [
            "+-------------+----+\n",
            "|average_price|year|\n",
            "+-------------+----+\n",
            "|    297609.97|2015|\n",
            "|    303676.79|2013|\n",
            "|    298264.72|2014|\n",
            "|    307539.97|2012|\n",
            "|     293965.1|2016|\n",
            "|    285010.22|2010|\n",
            "|    276553.81|2011|\n",
            "|    280317.58|2017|\n",
            "+-------------+----+\n",
            "\n"
          ]
        }
      ],
      "source": [
        "# 5. What is the average price of a home for each year built that have 3 bedrooms, 3 bathrooms, with two floors,\n",
        "# and are greater than or equal to 2,000 square feet rounded to two decimal places?\n",
        "query3 = \"\"\"\n",
        "select round(avg(price),2) as average_price,\n",
        "  date_built as year\n",
        "from home_sales\n",
        "where\n",
        "bedrooms = 3\n",
        "and\n",
        "bathrooms = 3\n",
        "and\n",
        "floors = 2\n",
        "and\n",
        "sqft_living >= 2000\n",
        "group by date_built\n",
        "\n",
        "\"\"\"\n",
        "\n",
        "spark.sql(query3).show()\n"
      ]
    },
    {
      "cell_type": "code",
      "execution_count": 23,
      "metadata": {
        "colab": {
          "base_uri": "https://localhost:8080/"
        },
        "id": "GUrfgOX1pCRd",
        "outputId": "25acca14-222f-4a27-cd6b-f4fc53556e69"
      },
      "outputs": [
        {
          "output_type": "stream",
          "name": "stdout",
          "text": [
            "+-------------+----+\n",
            "|average_price|view|\n",
            "+-------------+----+\n",
            "|    403848.51|   0|\n",
            "|    401044.25|   1|\n",
            "|    397389.25|   2|\n",
            "|     398867.6|   3|\n",
            "|    399631.89|   4|\n",
            "|    401471.82|   5|\n",
            "|    395655.38|   6|\n",
            "|    403005.77|   7|\n",
            "|    398592.71|   8|\n",
            "|    401393.34|   9|\n",
            "|    401868.43|  10|\n",
            "|    399548.12|  11|\n",
            "|    401501.32|  12|\n",
            "|    398917.98|  13|\n",
            "|    398570.03|  14|\n",
            "|     404673.3|  15|\n",
            "|    399586.53|  16|\n",
            "|    398474.49|  17|\n",
            "|    399332.91|  18|\n",
            "|    398953.17|  19|\n",
            "+-------------+----+\n",
            "only showing top 20 rows\n",
            "\n",
            "--- 0.7631552219390869 seconds ---\n"
          ]
        }
      ],
      "source": [
        "# 6. What is the \"view\" rating for the average price of a home, rounded to two decimal places, where the homes are greater than\n",
        "# or equal to $350,000? Although this is a small dataset, determine the run time for this query.\n",
        "\n",
        "start_time = time.time()\n",
        "\n",
        "query4 = \"\"\"\n",
        "select\n",
        "  round(avg(price),2) as average_price,\n",
        "  view\n",
        "from\n",
        "    home_sales\n",
        "where\n",
        "price >= 350000\n",
        "group by\n",
        "  view\n",
        "order by\n",
        "  view\n",
        "\n",
        "\"\"\"\n",
        "\n",
        "spark.sql(query4).show()\n",
        "\n",
        "print(\"--- %s seconds ---\" % (time.time() - start_time))"
      ]
    },
    {
      "cell_type": "code",
      "execution_count": 13,
      "metadata": {
        "id": "KAhk3ZD2tFy8",
        "colab": {
          "base_uri": "https://localhost:8080/"
        },
        "outputId": "bfd2143d-fb98-47dc-fe44-d8bb71a58b3b"
      },
      "outputs": [
        {
          "output_type": "execute_result",
          "data": {
            "text/plain": [
              "DataFrame[]"
            ]
          },
          "metadata": {},
          "execution_count": 13
        }
      ],
      "source": [
        "# 7. Cache the the temporary table home_sales.\n",
        "spark.sql(\"cache table home_sales \")"
      ]
    },
    {
      "cell_type": "code",
      "execution_count": 14,
      "metadata": {
        "id": "4opVhbvxtL-i",
        "colab": {
          "base_uri": "https://localhost:8080/"
        },
        "outputId": "1f0a3460-5ab8-4ee3-88b1-647b458870a4"
      },
      "outputs": [
        {
          "output_type": "execute_result",
          "data": {
            "text/plain": [
              "True"
            ]
          },
          "metadata": {},
          "execution_count": 14
        }
      ],
      "source": [
        "# 8. Check if the table is cached.\n",
        "spark.catalog.isCached('home_sales')"
      ]
    },
    {
      "cell_type": "code",
      "execution_count": 15,
      "metadata": {
        "colab": {
          "base_uri": "https://localhost:8080/"
        },
        "id": "5GnL46lwTSEk",
        "outputId": "71fdf4a3-926b-4cb3-c513-9fe838ed0fb3"
      },
      "outputs": [
        {
          "output_type": "stream",
          "name": "stdout",
          "text": [
            "+-------------+----+\n",
            "|average_price|view|\n",
            "+-------------+----+\n",
            "|    403848.51|   0|\n",
            "|    401044.25|   1|\n",
            "|    397389.25|   2|\n",
            "|     398867.6|   3|\n",
            "|    399631.89|   4|\n",
            "|    401471.82|   5|\n",
            "|    395655.38|   6|\n",
            "|    403005.77|   7|\n",
            "|    398592.71|   8|\n",
            "|    401393.34|   9|\n",
            "|    401868.43|  10|\n",
            "|    399548.12|  11|\n",
            "|    401501.32|  12|\n",
            "|    398917.98|  13|\n",
            "|    398570.03|  14|\n",
            "|     404673.3|  15|\n",
            "|    399586.53|  16|\n",
            "|    398474.49|  17|\n",
            "|    399332.91|  18|\n",
            "|    398953.17|  19|\n",
            "+-------------+----+\n",
            "only showing top 20 rows\n",
            "\n",
            "--- 0.696181058883667 seconds ---\n"
          ]
        }
      ],
      "source": [
        "# 9. Using the cached data, run the query that filters out the view ratings with average price\n",
        "#  greater than or equal to $350,000. Determine the runtime and compare it to uncached runtime.\n",
        "\n",
        "start_time = time.time()\n",
        "\n",
        "query5 = \"\"\"\n",
        "select round(avg(price),2) as average_price,\n",
        "  view\n",
        "from home_sales\n",
        "where\n",
        "price >= 350000\n",
        "group by view\n",
        "order by view\n",
        "\n",
        "\"\"\"\n",
        "\n",
        "spark.sql(query5).show()\n",
        "\n",
        "\n",
        "\n",
        "print(\"--- %s seconds ---\" % (time.time() - start_time))\n"
      ]
    },
    {
      "cell_type": "code",
      "execution_count": 16,
      "metadata": {
        "id": "Qm12WN9isHBR"
      },
      "outputs": [],
      "source": [
        "# 10. Partition by the \"date_built\" field on the formatted parquet home sales data\n",
        "home_sales_df.write.partitionBy(\"date_built\").mode(\"overwrite\").parquet(\"home_sales_parquet_partitioned\")"
      ]
    },
    {
      "cell_type": "code",
      "execution_count": 17,
      "metadata": {
        "id": "AZ7BgY61sRqY"
      },
      "outputs": [],
      "source": [
        "# 11. Read the parquet formatted data.\n",
        "home_sales_parquet_partitioned = spark.read.parquet(\"home_sales_parquet_partitioned\")"
      ]
    },
    {
      "cell_type": "code",
      "execution_count": 18,
      "metadata": {
        "id": "J6MJkHfvVcvh"
      },
      "outputs": [],
      "source": [
        "# 12. Create a temporary table for the parquet data.\n",
        "home_sales_parquet_partitioned.createOrReplaceTempView(\"home_sales_parquet_partitioned_view\")"
      ]
    },
    {
      "cell_type": "code",
      "execution_count": 19,
      "metadata": {
        "colab": {
          "base_uri": "https://localhost:8080/"
        },
        "id": "G_Vhb52rU1Sn",
        "outputId": "711b4e2e-10b3-488b-fc2c-abb2e41d95dd"
      },
      "outputs": [
        {
          "output_type": "stream",
          "name": "stdout",
          "text": [
            "+-------------+----+\n",
            "|average_price|view|\n",
            "+-------------+----+\n",
            "|    403848.51|   0|\n",
            "|    401044.25|   1|\n",
            "|    397389.25|   2|\n",
            "|     398867.6|   3|\n",
            "|    399631.89|   4|\n",
            "|    401471.82|   5|\n",
            "|    395655.38|   6|\n",
            "|    403005.77|   7|\n",
            "|    398592.71|   8|\n",
            "|    401393.34|   9|\n",
            "|    401868.43|  10|\n",
            "|    399548.12|  11|\n",
            "|    401501.32|  12|\n",
            "|    398917.98|  13|\n",
            "|    398570.03|  14|\n",
            "|     404673.3|  15|\n",
            "|    399586.53|  16|\n",
            "|    398474.49|  17|\n",
            "|    399332.91|  18|\n",
            "|    398953.17|  19|\n",
            "+-------------+----+\n",
            "only showing top 20 rows\n",
            "\n",
            "--- 1.0736372470855713 seconds ---\n"
          ]
        }
      ],
      "source": [
        "# 13. Run the query that filters out the view ratings with average price of greater than or equal to $350,000\n",
        "# with the parquet DataFrame. Round your average to two decimal places.\n",
        "# Determine the runtime and compare it to the cached version.\n",
        "\n",
        "start_time = time.time()\n",
        "\n",
        "query6 = \"\"\"\n",
        "select\n",
        "  round(avg(price),2) as average_price,\n",
        "  view\n",
        "from\n",
        "  home_sales_parquet_partitioned_view\n",
        "where\n",
        "  price > 350000\n",
        "group by\n",
        "  view\n",
        "order by\n",
        "  view\n",
        "\n",
        "\"\"\"\n",
        "\n",
        "spark.sql(query6).show()\n",
        "\n",
        "\n",
        "print(\"--- %s seconds ---\" % (time.time() - start_time))"
      ]
    },
    {
      "cell_type": "code",
      "execution_count": 20,
      "metadata": {
        "id": "hjjYzQGjtbq8",
        "colab": {
          "base_uri": "https://localhost:8080/"
        },
        "outputId": "2dc588e7-c827-44a2-d23f-e1712d3ac4cc"
      },
      "outputs": [
        {
          "output_type": "execute_result",
          "data": {
            "text/plain": [
              "DataFrame[]"
            ]
          },
          "metadata": {},
          "execution_count": 20
        }
      ],
      "source": [
        "# 14. Uncache the home_sales temporary table.\n",
        "spark.sql(\"uncache table home_sales\")"
      ]
    },
    {
      "cell_type": "code",
      "execution_count": 21,
      "metadata": {
        "id": "Sy9NBvO7tlmm",
        "colab": {
          "base_uri": "https://localhost:8080/"
        },
        "outputId": "22583777-d21b-46e2-94b5-b6322edb03fb"
      },
      "outputs": [
        {
          "output_type": "execute_result",
          "data": {
            "text/plain": [
              "False"
            ]
          },
          "metadata": {},
          "execution_count": 21
        }
      ],
      "source": [
        "# 15. Check if the home_sales is no longer cached\n",
        "\n",
        "spark.catalog.isCached(\"home_sales\")"
      ]
    },
    {
      "cell_type": "code",
      "execution_count": null,
      "metadata": {
        "id": "Si-BNruRUGK3"
      },
      "outputs": [],
      "source": []
    },
    {
      "cell_type": "markdown",
      "source": [
        "- The runtime for the original data was 0.7859 seconds.\n",
        "- The runtime for the cached data was 0.6962 seconds.\n",
        "- The runtime for the parquet and partitioned data was 1.074 seconds.\n",
        "\n"
      ],
      "metadata": {
        "id": "NhdyRLtxjo0W"
      }
    }
  ],
  "metadata": {
    "colab": {
      "provenance": []
    },
    "gpuClass": "standard",
    "kernelspec": {
      "display_name": "Python 3 (ipykernel)",
      "language": "python",
      "name": "python3"
    },
    "language_info": {
      "codemirror_mode": {
        "name": "ipython",
        "version": 3
      },
      "file_extension": ".py",
      "mimetype": "text/x-python",
      "name": "python",
      "nbconvert_exporter": "python",
      "pygments_lexer": "ipython3",
      "version": "3.10.4"
    },
    "nteract": {
      "version": "0.28.0"
    }
  },
  "nbformat": 4,
  "nbformat_minor": 0
}